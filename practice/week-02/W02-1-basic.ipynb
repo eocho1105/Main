{
 "cells": [
  {
   "cell_type": "markdown",
   "metadata": {},
   "source": [
    "# BIG DATA ANALYSIS : Python Basic\n",
    "---"
   ]
  },
  {
   "cell_type": "markdown",
   "metadata": {},
   "source": [
    "## 1. 주피터 노트북 기본 설명\n",
    "- Cell 소개 (타입)\n",
    "- 실행방법\n",
    "- 메모리 주의 사항\n",
    "- 셀 삽입/삭제\n",
    "- 수행(execution) 종료\n",
    "- 커널\n",
    "- 몇가지 단축키\n",
    "    - Ctrl + Enter\n",
    "    - Shift + Enter\n",
    "    - Tab\n",
    "        - indentation\n",
    "        - description\n",
    "        - . Tab"
   ]
  },
  {
   "cell_type": "markdown",
   "metadata": {},
   "source": [
    "## 2. 기본 출력 방식"
   ]
  },
  {
   "cell_type": "code",
   "execution_count": null,
   "metadata": {
    "scrolled": true
   },
   "outputs": [],
   "source": [
    "print(\"Hello World1\")\n",
    "print(\"Hello World2\")"
   ]
  },
  {
   "cell_type": "code",
   "execution_count": null,
   "metadata": {},
   "outputs": [],
   "source": [
    "print(1, \"Hello\", True)\n",
    "print(1, \"Hello\", True, sep=\"/\")"
   ]
  },
  {
   "cell_type": "code",
   "execution_count": null,
   "metadata": {},
   "outputs": [],
   "source": [
    "print(\"Hello World1\", end=\"---\")\n",
    "print(\"Hello World2\")\n"
   ]
  },
  {
   "cell_type": "code",
   "execution_count": null,
   "metadata": {},
   "outputs": [],
   "source": [
    "# 이것은 한줄짜리 주석입니다\n",
    "# 전체를 선택하고 Ctrl+/를 눌러보세요!\n",
    "\n",
    "\"\"\"\n",
    "이것은 \n",
    "여러줄을 \n",
    "한번에 주석\n",
    "처리하는 방식입니다.\n",
    "\"\"\"\n",
    "print(\"이것은 출력입니다\")"
   ]
  },
  {
   "cell_type": "markdown",
   "metadata": {},
   "source": [
    "* [round](https://www.w3schools.com/python/ref_func_round.asp) 함수에 관한 설명"
   ]
  },
  {
   "cell_type": "code",
   "execution_count": null,
   "metadata": {},
   "outputs": [],
   "source": [
    "#print 하는 방법\n",
    "name = \"중원\"\n",
    "major = \"컴퓨터과학\"\n",
    "weight = 70.0215\n",
    "\n",
    "print(\"안녕하세요, 저의 이름은 \"+name+\"이고\"+\" 전공은 \"+major+\"이고\"+\" 몸무게는 \"+str(round(weight,2))+\"kg 입니다.\")\n",
    "print(\"안녕하세요, 저의 이름은 %s이고 전공은 %s이고 몸무게는 %.2fkg 입니다.\" % (name, major, weight))\n",
    "print(\"안녕하세요, 저의 이름은 {}이고 전공은 {}이고 몸무게는 {:.2f}kg 입니다.\".format(name,major,weight))\n",
    "print(f\"안녕하세요, 저의 이름은 {name}이고 전공은 {major}이고 몸무게는 {weight:.2f}kg 입니다.\")"
   ]
  },
  {
   "cell_type": "markdown",
   "metadata": {},
   "source": [
    "## 3. 변수 할당\n",
    "- 단일 변수 할당\n",
    "- [Naming Convention](https://www.python.org/dev/peps/pep-0008/)\n",
    "    - Snake Case : 🐍\n",
    "    - Camel Case : 🐫\n",
    "- 복수 변수 할당\n",
    "- 변수 Swapping"
   ]
  },
  {
   "cell_type": "code",
   "execution_count": null,
   "metadata": {},
   "outputs": [],
   "source": [
    "a = 10\n",
    "my_value = 100\n",
    "\n",
    "is_possible = True\n",
    "isPossible = True\n",
    "\n",
    "user_name = \"Jungwon\"\n",
    "userName = \"Jungwon\"\n",
    "\n",
    "users = []"
   ]
  },
  {
   "cell_type": "code",
   "execution_count": null,
   "metadata": {
    "scrolled": true
   },
   "outputs": [],
   "source": [
    "a, b, c = 1,2,3\n",
    "print(a,b,c)"
   ]
  },
  {
   "cell_type": "code",
   "execution_count": null,
   "metadata": {},
   "outputs": [],
   "source": [
    "a=b=c=10\n",
    "print(a,b,c)"
   ]
  },
  {
   "cell_type": "code",
   "execution_count": null,
   "metadata": {
    "scrolled": true
   },
   "outputs": [],
   "source": [
    "a = 100\n",
    "b = 50\n",
    "print(a,b)\n",
    "a, b = b, a\n",
    "print(a,b)"
   ]
  },
  {
   "cell_type": "markdown",
   "metadata": {},
   "source": [
    "## 4. Numeric Operation\n",
    "    - 4칙연산 + alpha\n",
    "    - 비교연산\n",
    "    - 형변환(Type Casting)"
   ]
  },
  {
   "cell_type": "code",
   "execution_count": null,
   "metadata": {},
   "outputs": [],
   "source": [
    "# 사칙연산을 계산해봅니다.\n",
    "x = 9\n",
    "print(x+3)\n",
    "print(x-3)\n",
    "print(x*3)\n",
    "print(x/3) # 옵션 1"
   ]
  },
  {
   "cell_type": "code",
   "execution_count": null,
   "metadata": {},
   "outputs": [],
   "source": [
    "# 거듭제곱, 몫, 나머지\n",
    "x = 9\n",
    "print(x**4)\n",
    "print(x//4) \n",
    "print(x%4)"
   ]
  },
  {
   "cell_type": "code",
   "execution_count": null,
   "metadata": {},
   "outputs": [],
   "source": [
    "# 기존변수에 추가적인 연산\n",
    "a = 3\n",
    "a = a +1\n",
    "print(a)\n",
    "a += 1\n",
    "print(a)"
   ]
  },
  {
   "cell_type": "code",
   "execution_count": null,
   "metadata": {},
   "outputs": [],
   "source": [
    "# 비교연산\n",
    "a = 3\n",
    "b = 5\n",
    "print(a > b)\n",
    "print(a < b)\n",
    "print(a <= b)\n",
    "print(a >= b)\n",
    "print(a == b)\n",
    "print(a != b)\n",
    "print(a is b)\n",
    "print(a is not b)"
   ]
  },
  {
   "cell_type": "code",
   "execution_count": null,
   "metadata": {},
   "outputs": [],
   "source": [
    "#Q. 캐릭터간의 비교는?"
   ]
  },
  {
   "cell_type": "code",
   "execution_count": null,
   "metadata": {},
   "outputs": [],
   "source": [
    "a = 3.3\n",
    "print(a,  type(a))\n",
    "\n",
    "a = int(a)\n",
    "print(a,  type(a))\n",
    "\n",
    "a = float(a)\n",
    "print(a,  type(a))\n",
    "\n",
    "a = bool(a)\n",
    "print(a,  type(a))\n",
    "\n",
    "a = str(a)\n",
    "print(a,  type(a))"
   ]
  },
  {
   "cell_type": "markdown",
   "metadata": {},
   "source": [
    "## 5. String 관련 Method"
   ]
  },
  {
   "cell_type": "code",
   "execution_count": null,
   "metadata": {},
   "outputs": [],
   "source": [
    "# 변수 선언\n",
    "x = 'abc'\n",
    "print(x)\n",
    "print(type(x))"
   ]
  },
  {
   "cell_type": "code",
   "execution_count": null,
   "metadata": {},
   "outputs": [],
   "source": [
    "# 문자열 비교\n",
    "print('abc' == 'ABC')\n",
    "print('abc' == 'abc')"
   ]
  },
  {
   "cell_type": "code",
   "execution_count": null,
   "metadata": {},
   "outputs": [],
   "source": [
    "# 문자열 결합 연산\n",
    "'abc'+'ABC'"
   ]
  },
  {
   "cell_type": "code",
   "execution_count": null,
   "metadata": {},
   "outputs": [],
   "source": [
    "x =\"hello, this is PYTHON 101\"\n"
   ]
  },
  {
   "cell_type": "code",
   "execution_count": null,
   "metadata": {},
   "outputs": [],
   "source": [
    "print(len(x))"
   ]
  },
  {
   "cell_type": "code",
   "execution_count": null,
   "metadata": {},
   "outputs": [],
   "source": [
    "# 문자 치환\n",
    "x.replace(\"h\",\"x\")\n"
   ]
  },
  {
   "cell_type": "code",
   "execution_count": null,
   "metadata": {},
   "outputs": [],
   "source": [
    "# 단어 치환\n",
    "x.replace(\"hello\",\"Hi\")\n"
   ]
  },
  {
   "cell_type": "code",
   "execution_count": null,
   "metadata": {},
   "outputs": [],
   "source": [
    "# 문자/단어 존재여부 검사\n",
    "\"this\" in x\n"
   ]
  },
  {
   "cell_type": "code",
   "execution_count": null,
   "metadata": {},
   "outputs": [],
   "source": [
    "# 문자/단어 위치 확인 (가장 먼저 발견된)\n",
    "print(x.index(\"this\"))\n",
    "print(x.find(\"this\"))\n"
   ]
  },
  {
   "cell_type": "code",
   "execution_count": null,
   "metadata": {},
   "outputs": [],
   "source": [
    "# find와 index의 차이\n",
    "print(x.find(\"thiss\"))\n",
    "print(x.index(\"thiss\"))\n"
   ]
  },
  {
   "cell_type": "code",
   "execution_count": null,
   "metadata": {},
   "outputs": [],
   "source": [
    "# 문자/단어 위치 확인 (좌부터/우부터)\n",
    "print(x.find(\"e\"))\n",
    "print(x.rfind(\"e\"))\n"
   ]
  },
  {
   "cell_type": "code",
   "execution_count": null,
   "metadata": {},
   "outputs": [],
   "source": [
    "x =\"hello, this is PYTHON 101\"\n"
   ]
  },
  {
   "cell_type": "code",
   "execution_count": null,
   "metadata": {},
   "outputs": [],
   "source": [
    "print(x.upper())\n",
    "print(x.lower())\n",
    "print(x.capitalize())\n",
    "print(x.title())\n"
   ]
  },
  {
   "cell_type": "code",
   "execution_count": null,
   "metadata": {},
   "outputs": [],
   "source": [
    "x_list = x.split()\n",
    "print(x_list, type(x_list))"
   ]
  },
  {
   "cell_type": "code",
   "execution_count": null,
   "metadata": {},
   "outputs": [],
   "source": [
    "x_string = \" \".join(x_list)\n",
    "print(x_string, type(x_string))"
   ]
  },
  {
   "cell_type": "code",
   "execution_count": null,
   "metadata": {},
   "outputs": [],
   "source": []
  }
 ],
 "metadata": {
  "kernelspec": {
   "display_name": "Python 3",
   "language": "python",
   "name": "python3"
  },
  "language_info": {
   "codemirror_mode": {
    "name": "ipython",
    "version": 3
   },
   "file_extension": ".py",
   "mimetype": "text/x-python",
   "name": "python",
   "nbconvert_exporter": "python",
   "pygments_lexer": "ipython3",
   "version": "3.7.6"
  }
 },
 "nbformat": 4,
 "nbformat_minor": 4
}
